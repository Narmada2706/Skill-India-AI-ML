{
 "cells": [
  {
   "cell_type": "markdown",
   "metadata": {},
   "source": [
    "# Inventory Management Project"
   ]
  },
  {
   "cell_type": "markdown",
   "metadata": {
    "id": "j9rSMgKytN9V"
   },
   "source": [
    "## Read Data from JSON"
   ]
  },
  {
   "cell_type": "code",
   "execution_count": 1,
   "metadata": {},
   "outputs": [],
   "source": [
    "import json"
   ]
  },
  {
   "cell_type": "code",
   "execution_count": 2,
   "metadata": {
    "id": "wlQdKmzYpRok"
   },
   "outputs": [],
   "source": [
    "fd = open(\"record_1.json\",'r')\n",
    "r = fd.read()\n",
    "fd.close()\n",
    "\n",
    "record = json.loads(r)"
   ]
  },
  {
   "cell_type": "code",
   "execution_count": 3,
   "metadata": {
    "colab": {
     "base_uri": "https://localhost:8080/"
    },
    "id": "N8fCrfQHqlUN",
    "outputId": "04f7a640-bbad-429c-d7d1-686ca5ec14e2"
   },
   "outputs": [
    {
     "data": {
      "text/plain": [
       "{'1001': {'name': 'Milk', 'pr': 40, 'qn': 30},\n",
       " '1002': {'name': 'cream', 'pr': 50, 'qn': 25},\n",
       " '1003': {'name': 'cheese', 'pr': 150, 'qn': 50},\n",
       " '1004': {'name': 'Strawberry', 'pr': 85, 'qn': 100},\n",
       " '1005': {'name': 'Butter', 'pr': 280, 'qn': 100},\n",
       " '1006': {'name': 'Egg', 'pr': 170, 'qn': 150},\n",
       " '1007': {'name': 'Coffee', 'pr': 100, 'qn': 180},\n",
       " '1008': {'name': 'Choco Cake', 'pr': 100, 'qn': 34},\n",
       " '1009': {'name': 'Milk Cake', 'pr': 800, 'qn': 100},\n",
       " '1010': {'name': 'Drink', 'pr': 85, 'qn': 100},\n",
       " '1011': {'name': 'Candy', 'pr': 5, 'qn': 1000},\n",
       " '1012': {'name': 'Pen', 'pr': 20, 'qn': 100},\n",
       " '1013': {'name': 'Phone', 'pr': 50000, 'qn': 10},\n",
       " '1014': {'name': 'Mic', 'pr': 1500, 'qn': 30},\n",
       " '1015': {'name': 'Lamps', 'pr': 350, 'qn': 50},\n",
       " '1016': {'name': 'Mirror', 'pr': 70, 'qn': 20},\n",
       " '1017': {'name': 'pans', 'pr': 100, 'qn': 30},\n",
       " '1018': {'name': 'Glasses', 'pr': 350, 'qn': 10},\n",
       " '1019': {'name': 'Toys', 'pr': 150, 'qn': 25},\n",
       " '1020': {'name': 'Books', 'pr': 35, 'qn': 50},\n",
       " '1021': {'name': 'Toothbrush', 'pr': 20, 'qn': 100},\n",
       " '1022': {'name': 'Toothpaste', 'pr': 20, 'qn': 100},\n",
       " '1023': {'name': 'Markerpens(black)', 'pr': 15, 'qn': 50},\n",
       " '1024': {'name': 'Markerpens(red)', 'pr': 15, 'qn': 50},\n",
       " '1025': {'name': 'Markerpens(blue)', 'pr': 15, 'qn': 50},\n",
       " '1026': {'name': 'Bottles', 'pr': 20, 'qn': 20},\n",
       " '1027': {'name': 'Staples', 'pr': 45, 'qn': 10},\n",
       " '1028': {'name': 'Eraser', 'pr': 10, 'qn': 20}}"
      ]
     },
     "execution_count": 3,
     "metadata": {},
     "output_type": "execute_result"
    }
   ],
   "source": [
    "record"
   ]
  },
  {
   "cell_type": "markdown",
   "metadata": {
    "id": "fNniKChHtFsH"
   },
   "source": [
    "## Add New Item into Inventory"
   ]
  },
  {
   "cell_type": "code",
   "execution_count": 4,
   "metadata": {
    "colab": {
     "base_uri": "https://localhost:8080/"
    },
    "id": "f61BridoqxZN",
    "outputId": "4919a5d7-b839-41df-ec08-b4f39107e984"
   },
   "outputs": [
    {
     "name": "stdout",
     "output_type": "stream",
     "text": [
      "Enter product id:1029\n",
      "Enter name:Ballpointpens\n",
      "Enter price:10\n",
      "Enter quantity:20\n"
     ]
    }
   ],
   "source": [
    "prod_id = str(input(\"Enter product id:\"))\n",
    "name = str(input(\"Enter name:\"))\n",
    "pr = int(input(\"Enter price:\"))\n",
    "qn = int(input(\"Enter quantity:\"))\n",
    "\n",
    "record[prod_id] = {'name': name, 'pr': pr, 'qn': qn}\n",
    "\n",
    "js = json.dumps(record)\n",
    "\n",
    "fd = open(\"record_1.json\",'w')\n",
    "\n",
    "fd.write(js)\n",
    "fd.close()"
   ]
  },
  {
   "cell_type": "code",
   "execution_count": 5,
   "metadata": {},
   "outputs": [
    {
     "data": {
      "text/plain": [
       "{'1001': {'name': 'Milk', 'pr': 40, 'qn': 30},\n",
       " '1002': {'name': 'cream', 'pr': 50, 'qn': 25},\n",
       " '1003': {'name': 'cheese', 'pr': 150, 'qn': 50},\n",
       " '1004': {'name': 'Strawberry', 'pr': 85, 'qn': 100},\n",
       " '1005': {'name': 'Butter', 'pr': 280, 'qn': 100},\n",
       " '1006': {'name': 'Egg', 'pr': 170, 'qn': 150},\n",
       " '1007': {'name': 'Coffee', 'pr': 100, 'qn': 180},\n",
       " '1008': {'name': 'Choco Cake', 'pr': 100, 'qn': 34},\n",
       " '1009': {'name': 'Milk Cake', 'pr': 800, 'qn': 100},\n",
       " '1010': {'name': 'Drink', 'pr': 85, 'qn': 100},\n",
       " '1011': {'name': 'Candy', 'pr': 5, 'qn': 1000},\n",
       " '1012': {'name': 'Pen', 'pr': 20, 'qn': 100},\n",
       " '1013': {'name': 'Phone', 'pr': 50000, 'qn': 10},\n",
       " '1014': {'name': 'Mic', 'pr': 1500, 'qn': 30},\n",
       " '1015': {'name': 'Lamps', 'pr': 350, 'qn': 50},\n",
       " '1016': {'name': 'Mirror', 'pr': 70, 'qn': 20},\n",
       " '1017': {'name': 'pans', 'pr': 100, 'qn': 30},\n",
       " '1018': {'name': 'Glasses', 'pr': 350, 'qn': 10},\n",
       " '1019': {'name': 'Toys', 'pr': 150, 'qn': 25},\n",
       " '1020': {'name': 'Books', 'pr': 35, 'qn': 50},\n",
       " '1021': {'name': 'Toothbrush', 'pr': 20, 'qn': 100},\n",
       " '1022': {'name': 'Toothpaste', 'pr': 20, 'qn': 100},\n",
       " '1023': {'name': 'Markerpens(black)', 'pr': 15, 'qn': 50},\n",
       " '1024': {'name': 'Markerpens(red)', 'pr': 15, 'qn': 50},\n",
       " '1025': {'name': 'Markerpens(blue)', 'pr': 15, 'qn': 50},\n",
       " '1026': {'name': 'Bottles', 'pr': 20, 'qn': 20},\n",
       " '1027': {'name': 'Staples', 'pr': 45, 'qn': 10},\n",
       " '1028': {'name': 'Eraser', 'pr': 10, 'qn': 20},\n",
       " '1029': {'name': 'Ballpointpens', 'pr': 10, 'qn': 20}}"
      ]
     },
     "execution_count": 5,
     "metadata": {},
     "output_type": "execute_result"
    }
   ],
   "source": [
    "record"
   ]
  },
  {
   "cell_type": "code",
   "execution_count": 6,
   "metadata": {},
   "outputs": [
    {
     "name": "stdout",
     "output_type": "stream",
     "text": [
      "Enter product id:1030\n",
      "Enter name:Calculator\n",
      "Enter price:250\n",
      "Enter quantity:30\n"
     ]
    }
   ],
   "source": [
    "prod_id = str(input(\"Enter product id:\"))\n",
    "name = str(input(\"Enter name:\"))\n",
    "pr = int(input(\"Enter price:\"))\n",
    "qn = int(input(\"Enter quantity:\"))\n",
    "\n",
    "record[prod_id] = {'name': name, 'pr': pr, 'qn': qn}\n",
    "\n",
    "js = json.dumps(record)\n",
    "\n",
    "fd = open(\"record_1.json\",'w')\n",
    "fd.write(js)\n",
    "fd.close()\n"
   ]
  },
  {
   "cell_type": "code",
   "execution_count": 7,
   "metadata": {},
   "outputs": [
    {
     "data": {
      "text/plain": [
       "{'1001': {'name': 'Milk', 'pr': 40, 'qn': 30},\n",
       " '1002': {'name': 'cream', 'pr': 50, 'qn': 25},\n",
       " '1003': {'name': 'cheese', 'pr': 150, 'qn': 50},\n",
       " '1004': {'name': 'Strawberry', 'pr': 85, 'qn': 100},\n",
       " '1005': {'name': 'Butter', 'pr': 280, 'qn': 100},\n",
       " '1006': {'name': 'Egg', 'pr': 170, 'qn': 150},\n",
       " '1007': {'name': 'Coffee', 'pr': 100, 'qn': 180},\n",
       " '1008': {'name': 'Choco Cake', 'pr': 100, 'qn': 34},\n",
       " '1009': {'name': 'Milk Cake', 'pr': 800, 'qn': 100},\n",
       " '1010': {'name': 'Drink', 'pr': 85, 'qn': 100},\n",
       " '1011': {'name': 'Candy', 'pr': 5, 'qn': 1000},\n",
       " '1012': {'name': 'Pen', 'pr': 20, 'qn': 100},\n",
       " '1013': {'name': 'Phone', 'pr': 50000, 'qn': 10},\n",
       " '1014': {'name': 'Mic', 'pr': 1500, 'qn': 30},\n",
       " '1015': {'name': 'Lamps', 'pr': 350, 'qn': 50},\n",
       " '1016': {'name': 'Mirror', 'pr': 70, 'qn': 20},\n",
       " '1017': {'name': 'pans', 'pr': 100, 'qn': 30},\n",
       " '1018': {'name': 'Glasses', 'pr': 350, 'qn': 10},\n",
       " '1019': {'name': 'Toys', 'pr': 150, 'qn': 25},\n",
       " '1020': {'name': 'Books', 'pr': 35, 'qn': 50},\n",
       " '1021': {'name': 'Toothbrush', 'pr': 20, 'qn': 100},\n",
       " '1022': {'name': 'Toothpaste', 'pr': 20, 'qn': 100},\n",
       " '1023': {'name': 'Markerpens(black)', 'pr': 15, 'qn': 50},\n",
       " '1024': {'name': 'Markerpens(red)', 'pr': 15, 'qn': 50},\n",
       " '1025': {'name': 'Markerpens(blue)', 'pr': 15, 'qn': 50},\n",
       " '1026': {'name': 'Bottles', 'pr': 20, 'qn': 20},\n",
       " '1027': {'name': 'Staples', 'pr': 45, 'qn': 10},\n",
       " '1028': {'name': 'Eraser', 'pr': 10, 'qn': 20},\n",
       " '1029': {'name': 'Ballpointpens', 'pr': 10, 'qn': 20},\n",
       " '1030': {'name': 'Calculator', 'pr': 250, 'qn': 30}}"
      ]
     },
     "execution_count": 7,
     "metadata": {},
     "output_type": "execute_result"
    }
   ],
   "source": [
    "record"
   ]
  },
  {
   "cell_type": "code",
   "execution_count": 8,
   "metadata": {},
   "outputs": [
    {
     "name": "stdout",
     "output_type": "stream",
     "text": [
      "Enter product id:1031\n",
      "Enter name:Sharpner\n",
      "Enter price:10\n",
      "Enter quantity:30\n"
     ]
    }
   ],
   "source": [
    "prod_id = str(input(\"Enter product id:\"))\n",
    "name = str(input(\"Enter name:\"))\n",
    "pr = int(input(\"Enter price:\"))\n",
    "qn = int(input(\"Enter quantity:\"))\n",
    "if prod_id in record:\n",
    "    record[prod_id] = {'name': name, 'pr': pr,'qn':qn + record[prod_id]['qn']}\n",
    "    \n",
    "else:\n",
    "    record[prod_id] = {'name': name, 'pr': pr, 'qn': qn}\n",
    "\n",
    "    \n",
    "\n",
    "fd = open(\"record_1.json\",'w')\n",
    "fd.write(js)\n",
    "fd.close()\n"
   ]
  },
  {
   "cell_type": "code",
   "execution_count": 9,
   "metadata": {},
   "outputs": [
    {
     "data": {
      "text/plain": [
       "{'1001': {'name': 'Milk', 'pr': 40, 'qn': 30},\n",
       " '1002': {'name': 'cream', 'pr': 50, 'qn': 25},\n",
       " '1003': {'name': 'cheese', 'pr': 150, 'qn': 50},\n",
       " '1004': {'name': 'Strawberry', 'pr': 85, 'qn': 100},\n",
       " '1005': {'name': 'Butter', 'pr': 280, 'qn': 100},\n",
       " '1006': {'name': 'Egg', 'pr': 170, 'qn': 150},\n",
       " '1007': {'name': 'Coffee', 'pr': 100, 'qn': 180},\n",
       " '1008': {'name': 'Choco Cake', 'pr': 100, 'qn': 34},\n",
       " '1009': {'name': 'Milk Cake', 'pr': 800, 'qn': 100},\n",
       " '1010': {'name': 'Drink', 'pr': 85, 'qn': 100},\n",
       " '1011': {'name': 'Candy', 'pr': 5, 'qn': 1000},\n",
       " '1012': {'name': 'Pen', 'pr': 20, 'qn': 100},\n",
       " '1013': {'name': 'Phone', 'pr': 50000, 'qn': 10},\n",
       " '1014': {'name': 'Mic', 'pr': 1500, 'qn': 30},\n",
       " '1015': {'name': 'Lamps', 'pr': 350, 'qn': 50},\n",
       " '1016': {'name': 'Mirror', 'pr': 70, 'qn': 20},\n",
       " '1017': {'name': 'pans', 'pr': 100, 'qn': 30},\n",
       " '1018': {'name': 'Glasses', 'pr': 350, 'qn': 10},\n",
       " '1019': {'name': 'Toys', 'pr': 150, 'qn': 25},\n",
       " '1020': {'name': 'Books', 'pr': 35, 'qn': 50},\n",
       " '1021': {'name': 'Toothbrush', 'pr': 20, 'qn': 100},\n",
       " '1022': {'name': 'Toothpaste', 'pr': 20, 'qn': 100},\n",
       " '1023': {'name': 'Markerpens(black)', 'pr': 15, 'qn': 50},\n",
       " '1024': {'name': 'Markerpens(red)', 'pr': 15, 'qn': 50},\n",
       " '1025': {'name': 'Markerpens(blue)', 'pr': 15, 'qn': 50},\n",
       " '1026': {'name': 'Bottles', 'pr': 20, 'qn': 20},\n",
       " '1027': {'name': 'Staples', 'pr': 45, 'qn': 10},\n",
       " '1028': {'name': 'Eraser', 'pr': 10, 'qn': 20},\n",
       " '1029': {'name': 'Ballpointpens', 'pr': 10, 'qn': 20},\n",
       " '1030': {'name': 'Calculator', 'pr': 250, 'qn': 30},\n",
       " '1031': {'name': 'Sharpner', 'pr': 10, 'qn': 30}}"
      ]
     },
     "execution_count": 9,
     "metadata": {},
     "output_type": "execute_result"
    }
   ],
   "source": [
    "record"
   ]
  },
  {
   "cell_type": "code",
   "execution_count": 10,
   "metadata": {},
   "outputs": [
    {
     "name": "stdout",
     "output_type": "stream",
     "text": [
      "Enter product id:1026\n",
      "Enter name:Bottles\n",
      "Enter price:20\n",
      "Enter quantity:30\n"
     ]
    }
   ],
   "source": [
    "prod_id = str(input(\"Enter product id:\"))\n",
    "name = str(input(\"Enter name:\"))\n",
    "pr = int(input(\"Enter price:\"))\n",
    "qn = int(input(\"Enter quantity:\"))\n",
    "if prod_id in record:\n",
    "    record[prod_id] = {'name': name, 'pr': pr,'qn':qn + record[prod_id]['qn']}\n",
    "    \n",
    "else:\n",
    "    record[prod_id] = {'name': name, 'pr': pr, 'qn': qn}\n",
    "\n",
    "    \n",
    "\n",
    "fd = open(\"record_1.json\",'w')\n",
    "fd.write(js)\n",
    "fd.close()"
   ]
  },
  {
   "cell_type": "code",
   "execution_count": 11,
   "metadata": {},
   "outputs": [
    {
     "data": {
      "text/plain": [
       "{'1001': {'name': 'Milk', 'pr': 40, 'qn': 30},\n",
       " '1002': {'name': 'cream', 'pr': 50, 'qn': 25},\n",
       " '1003': {'name': 'cheese', 'pr': 150, 'qn': 50},\n",
       " '1004': {'name': 'Strawberry', 'pr': 85, 'qn': 100},\n",
       " '1005': {'name': 'Butter', 'pr': 280, 'qn': 100},\n",
       " '1006': {'name': 'Egg', 'pr': 170, 'qn': 150},\n",
       " '1007': {'name': 'Coffee', 'pr': 100, 'qn': 180},\n",
       " '1008': {'name': 'Choco Cake', 'pr': 100, 'qn': 34},\n",
       " '1009': {'name': 'Milk Cake', 'pr': 800, 'qn': 100},\n",
       " '1010': {'name': 'Drink', 'pr': 85, 'qn': 100},\n",
       " '1011': {'name': 'Candy', 'pr': 5, 'qn': 1000},\n",
       " '1012': {'name': 'Pen', 'pr': 20, 'qn': 100},\n",
       " '1013': {'name': 'Phone', 'pr': 50000, 'qn': 10},\n",
       " '1014': {'name': 'Mic', 'pr': 1500, 'qn': 30},\n",
       " '1015': {'name': 'Lamps', 'pr': 350, 'qn': 50},\n",
       " '1016': {'name': 'Mirror', 'pr': 70, 'qn': 20},\n",
       " '1017': {'name': 'pans', 'pr': 100, 'qn': 30},\n",
       " '1018': {'name': 'Glasses', 'pr': 350, 'qn': 10},\n",
       " '1019': {'name': 'Toys', 'pr': 150, 'qn': 25},\n",
       " '1020': {'name': 'Books', 'pr': 35, 'qn': 50},\n",
       " '1021': {'name': 'Toothbrush', 'pr': 20, 'qn': 100},\n",
       " '1022': {'name': 'Toothpaste', 'pr': 20, 'qn': 100},\n",
       " '1023': {'name': 'Markerpens(black)', 'pr': 15, 'qn': 50},\n",
       " '1024': {'name': 'Markerpens(red)', 'pr': 15, 'qn': 50},\n",
       " '1025': {'name': 'Markerpens(blue)', 'pr': 15, 'qn': 50},\n",
       " '1026': {'name': 'Bottles', 'pr': 20, 'qn': 50},\n",
       " '1027': {'name': 'Staples', 'pr': 45, 'qn': 10},\n",
       " '1028': {'name': 'Eraser', 'pr': 10, 'qn': 20},\n",
       " '1029': {'name': 'Ballpointpens', 'pr': 10, 'qn': 20},\n",
       " '1030': {'name': 'Calculator', 'pr': 250, 'qn': 30},\n",
       " '1031': {'name': 'Sharpner', 'pr': 10, 'qn': 30}}"
      ]
     },
     "execution_count": 11,
     "metadata": {},
     "output_type": "execute_result"
    }
   ],
   "source": [
    "record"
   ]
  },
  {
   "cell_type": "code",
   "execution_count": null,
   "metadata": {},
   "outputs": [],
   "source": []
  }
 ],
 "metadata": {
  "colab": {
   "name": "Adding new Products",
   "provenance": []
  },
  "kernelspec": {
   "display_name": "Python 3",
   "language": "python",
   "name": "python3"
  },
  "language_info": {
   "codemirror_mode": {
    "name": "ipython",
    "version": 3
   },
   "file_extension": ".py",
   "mimetype": "text/x-python",
   "name": "python",
   "nbconvert_exporter": "python",
   "pygments_lexer": "ipython3",
   "version": "3.8.5"
  }
 },
 "nbformat": 4,
 "nbformat_minor": 1
}
