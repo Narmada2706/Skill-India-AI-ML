{
 "cells": [
  {
   "cell_type": "markdown",
   "metadata": {},
   "source": [
    "# Inventory Management Project"
   ]
  },
  {
   "cell_type": "markdown",
   "metadata": {
    "id": "R6NHgAYkxqSl"
   },
   "source": [
    "## Read Inventory"
   ]
  },
  {
   "cell_type": "code",
   "execution_count": 1,
   "metadata": {
    "id": "jkJT24jqug9n"
   },
   "outputs": [],
   "source": [
    "import json\n",
    "\n",
    "fd = open(\"record_1.json\",'r')\n",
    "r = fd.read()\n",
    "fd.close()\n",
    "\n",
    "records = json.loads(r)"
   ]
  },
  {
   "cell_type": "code",
   "execution_count": 2,
   "metadata": {
    "colab": {
     "base_uri": "https://localhost:8080/"
    },
    "id": "CcLYokrlus6z",
    "outputId": "525ffebc-7e32-463b-b0a4-2e6e9fc73f7c"
   },
   "outputs": [
    {
     "data": {
      "text/plain": [
       "{'1001': {'name': 'Milk', 'pr': 40, 'qn': 30},\n",
       " '1002': {'name': 'cream', 'pr': 50, 'qn': 25},\n",
       " '1003': {'name': 'cheese', 'pr': 150, 'qn': 50},\n",
       " '1004': {'name': 'Strawberry', 'pr': 85, 'qn': 100},\n",
       " '1005': {'name': 'Butter', 'pr': 280, 'qn': 100},\n",
       " '1006': {'name': 'Egg', 'pr': 170, 'qn': 150},\n",
       " '1007': {'name': 'Coffee', 'pr': 100, 'qn': 180},\n",
       " '1008': {'name': 'Choco Cake', 'pr': 100, 'qn': 34},\n",
       " '1009': {'name': 'Milk Cake', 'pr': 800, 'qn': 100},\n",
       " '1010': {'name': 'Drink', 'pr': 85, 'qn': 100},\n",
       " '1011': {'name': 'Candy', 'pr': 5, 'qn': 1000},\n",
       " '1012': {'name': 'Pen', 'pr': 20, 'qn': 100},\n",
       " '1013': {'name': 'Phone', 'pr': 50000, 'qn': 10},\n",
       " '1014': {'name': 'Mic', 'pr': 1500, 'qn': 30},\n",
       " '1015': {'name': 'Lamps', 'pr': 350, 'qn': 50},\n",
       " '1016': {'name': 'Mirror', 'pr': 70, 'qn': 20},\n",
       " '1017': {'name': 'pans', 'pr': 100, 'qn': 30},\n",
       " '1018': {'name': 'Glasses', 'pr': 350, 'qn': 10},\n",
       " '1019': {'name': 'Toys', 'pr': 150, 'qn': 25},\n",
       " '1020': {'name': 'Books', 'pr': 35, 'qn': 50},\n",
       " '1021': {'name': 'Toothbrush', 'pr': 20, 'qn': 100},\n",
       " '1022': {'name': 'Toothpaste', 'pr': 20, 'qn': 100},\n",
       " '1023': {'name': 'Markerpens(black)', 'pr': 15, 'qn': 50},\n",
       " '1024': {'name': 'Markerpens(red)', 'pr': 15, 'qn': 50},\n",
       " '1025': {'name': 'Markerpens(blue)', 'pr': 15, 'qn': 50},\n",
       " '1026': {'name': 'Bottles', 'pr': 20, 'qn': 20},\n",
       " '1027': {'name': 'Staples', 'pr': 45, 'qn': 10},\n",
       " '1028': {'name': 'Eraser', 'pr': 10, 'qn': 20},\n",
       " '1029': {'name': 'Ballpointpens', 'pr': 10, 'qn': 20},\n",
       " '1030': {'name': 'Calculator', 'pr': 250, 'qn': 30},\n",
       " '1031': {'name': 'Sharpner', 'pr': 10, 'qn': 5}}"
      ]
     },
     "execution_count": 2,
     "metadata": {},
     "output_type": "execute_result"
    }
   ],
   "source": [
    "records"
   ]
  },
  {
   "cell_type": "markdown",
   "metadata": {
    "id": "WI5f7HTuxwzb"
   },
   "source": [
    "## Purchase"
   ]
  },
  {
   "cell_type": "code",
   "execution_count": 3,
   "metadata": {
    "colab": {
     "base_uri": "https://localhost:8080/"
    },
    "id": "c4E4eIvyuth0",
    "outputId": "91896933-af33-4e3e-ad2b-478c1243c6a3"
   },
   "outputs": [
    {
     "name": "stdout",
     "output_type": "stream",
     "text": [
      "Enter the product_Id: 1001\n",
      "Enter the quantity: 20\n",
      "Product:  Milk\n",
      "Price:  40\n",
      "Billing Amount:  800\n"
     ]
    }
   ],
   "source": [
    "ui_prod  = str(input(\"Enter the product_Id: \"))\n",
    "ui_quant = int(input(\"Enter the quantity: \"))\n",
    "\n",
    "\n",
    "print(\"Product: \", records[ui_prod]['name'])\n",
    "print(\"Price: \", records[ui_prod]['pr'])\n",
    "print(\"Billing Amount: \", records[ui_prod]['pr'] * ui_quant)\n",
    "\n",
    "records[ui_prod]['qn'] = records[ui_prod]['qn'] - ui_quant"
   ]
  },
  {
   "cell_type": "markdown",
   "metadata": {
    "id": "3h8S8JBVx1_D"
   },
   "source": [
    "## Update Inventory after purchase"
   ]
  },
  {
   "cell_type": "code",
   "execution_count": 4,
   "metadata": {
    "id": "TO68fUvvwzXt"
   },
   "outputs": [],
   "source": [
    "js = json.dumps(records)\n",
    "\n",
    "fd = open(\"record_1.json\",'w')\n",
    "fd.write(js)\n",
    "fd.close()"
   ]
  },
  {
   "cell_type": "code",
   "execution_count": 5,
   "metadata": {},
   "outputs": [],
   "source": [
    "sales = {}\n"
   ]
  },
  {
   "cell_type": "code",
   "execution_count": 7,
   "metadata": {},
   "outputs": [
    {
     "name": "stdout",
     "output_type": "stream",
     "text": [
      "Enter the product_Id: 1007\n",
      "Enter the quantity: 20\n",
      "Product:  Coffee\n",
      "Price:  100\n",
      "Billing Amount:  2000\n",
      "{'0': {'prod': '1007', 'qn': 20, 'amount': 2000}}\n",
      "Enter the product_Id: 1020\n",
      "Enter the quantity: 25\n",
      "Product:  Books\n",
      "Price:  35\n",
      "Billing Amount:  875\n",
      "{'0': {'prod': '1007', 'qn': 20, 'amount': 2000}, '1': {'prod': '1020', 'qn': 25, 'amount': 875}}\n",
      "Enter the product_Id: 1017\n",
      "Enter the quantity: 15\n",
      "Product:  pans\n",
      "Price:  100\n",
      "Billing Amount:  1500\n",
      "{'0': {'prod': '1007', 'qn': 20, 'amount': 2000}, '1': {'prod': '1020', 'qn': 25, 'amount': 875}, '2': {'prod': '1017', 'qn': 15, 'amount': 1500}}\n",
      "Enter the product_Id: 1022\n",
      "Enter the quantity: 40\n",
      "Product:  Toothpaste\n",
      "Price:  20\n",
      "Billing Amount:  800\n",
      "{'0': {'prod': '1007', 'qn': 20, 'amount': 2000}, '1': {'prod': '1020', 'qn': 25, 'amount': 875}, '2': {'prod': '1017', 'qn': 15, 'amount': 1500}, '3': {'prod': '1022', 'qn': 40, 'amount': 800}}\n",
      "Enter the product_Id: 1008\n",
      "Enter the quantity: 5\n",
      "Product:  Choco Cake\n",
      "Price:  100\n",
      "Billing Amount:  500\n",
      "{'0': {'prod': '1007', 'qn': 20, 'amount': 2000}, '1': {'prod': '1020', 'qn': 25, 'amount': 875}, '2': {'prod': '1017', 'qn': 15, 'amount': 1500}, '3': {'prod': '1022', 'qn': 40, 'amount': 800}, '4': {'prod': '1008', 'qn': 5, 'amount': 500}}\n",
      "Enter the product_Id: 1011\n",
      "Enter the quantity: 500\n",
      "Product:  Candy\n",
      "Price:  5\n",
      "Billing Amount:  2500\n",
      "{'0': {'prod': '1007', 'qn': 20, 'amount': 2000}, '1': {'prod': '1020', 'qn': 25, 'amount': 875}, '2': {'prod': '1017', 'qn': 15, 'amount': 1500}, '3': {'prod': '1022', 'qn': 40, 'amount': 800}, '4': {'prod': '1008', 'qn': 5, 'amount': 500}, '5': {'prod': '1011', 'qn': 500, 'amount': 2500}}\n",
      "Enter the product_Id: 1022\n",
      "Enter the quantity: 6\n",
      "Product:  Toothpaste\n",
      "Price:  20\n",
      "Billing Amount:  120\n",
      "{'0': {'prod': '1007', 'qn': 20, 'amount': 2000}, '1': {'prod': '1020', 'qn': 25, 'amount': 875}, '2': {'prod': '1017', 'qn': 15, 'amount': 1500}, '3': {'prod': '1022', 'qn': 40, 'amount': 800}, '4': {'prod': '1008', 'qn': 5, 'amount': 500}, '5': {'prod': '1011', 'qn': 500, 'amount': 2500}, '6': {'prod': '1022', 'qn': 6, 'amount': 120}}\n",
      "Enter the product_Id: 1010\n",
      "Enter the quantity: 7\n",
      "Product:  Drink\n",
      "Price:  85\n",
      "Billing Amount:  595\n",
      "{'0': {'prod': '1007', 'qn': 20, 'amount': 2000}, '1': {'prod': '1020', 'qn': 25, 'amount': 875}, '2': {'prod': '1017', 'qn': 15, 'amount': 1500}, '3': {'prod': '1022', 'qn': 40, 'amount': 800}, '4': {'prod': '1008', 'qn': 5, 'amount': 500}, '5': {'prod': '1011', 'qn': 500, 'amount': 2500}, '6': {'prod': '1022', 'qn': 6, 'amount': 120}, '7': {'prod': '1010', 'qn': 7, 'amount': 595}}\n",
      "Enter the product_Id: 1016\n",
      "Enter the quantity: 10\n",
      "Product:  Mirror\n",
      "Price:  70\n",
      "Billing Amount:  700\n",
      "{'0': {'prod': '1007', 'qn': 20, 'amount': 2000}, '1': {'prod': '1020', 'qn': 25, 'amount': 875}, '2': {'prod': '1017', 'qn': 15, 'amount': 1500}, '3': {'prod': '1022', 'qn': 40, 'amount': 800}, '4': {'prod': '1008', 'qn': 5, 'amount': 500}, '5': {'prod': '1011', 'qn': 500, 'amount': 2500}, '6': {'prod': '1022', 'qn': 6, 'amount': 120}, '7': {'prod': '1010', 'qn': 7, 'amount': 595}, '8': {'prod': '1016', 'qn': 10, 'amount': 700}}\n",
      "Enter the product_Id: 1015\n",
      "Enter the quantity: 20\n",
      "Product:  Lamps\n",
      "Price:  350\n",
      "Billing Amount:  7000\n",
      "{'0': {'prod': '1007', 'qn': 20, 'amount': 2000}, '1': {'prod': '1020', 'qn': 25, 'amount': 875}, '2': {'prod': '1017', 'qn': 15, 'amount': 1500}, '3': {'prod': '1022', 'qn': 40, 'amount': 800}, '4': {'prod': '1008', 'qn': 5, 'amount': 500}, '5': {'prod': '1011', 'qn': 500, 'amount': 2500}, '6': {'prod': '1022', 'qn': 6, 'amount': 120}, '7': {'prod': '1010', 'qn': 7, 'amount': 595}, '8': {'prod': '1016', 'qn': 10, 'amount': 700}, '9': {'prod': '1015', 'qn': 20, 'amount': 7000}}\n"
     ]
    }
   ],
   "source": [
    "sales = {}\n",
    "for i in range(10):\n",
    "    ui_prod  = str(input(\"Enter the product_Id: \"))\n",
    "    ui_quant = int(input(\"Enter the quantity: \"))\n",
    "    if(records[ui_prod]['qn'] >=ui_quant):\n",
    "        print(\"Product: \", records[ui_prod]['name'])\n",
    "        print(\"Price: \", records[ui_prod]['pr'])\n",
    "        print(\"Billing Amount: \", records[ui_prod]['pr'] * ui_quant)\n",
    "        sales[str(i)] = {'prod' : ui_prod, 'qn' : ui_quant, 'amount': records[ui_prod]['pr'] * ui_quant}\n",
    "        print(sales)\n",
    "    \n",
    "        records[ui_prod]['qn'] = records[ui_prod]['qn'] - ui_quant\n",
    "    else:\n",
    "        print(\"WE DONT HAVE THAT MUCH QUANTITY\")\n",
    "\n",
    "\n"
   ]
  },
  {
   "cell_type": "code",
   "execution_count": 8,
   "metadata": {},
   "outputs": [
    {
     "name": "stdout",
     "output_type": "stream",
     "text": [
      "{'0': {'prod': '1007', 'qn': 20, 'amount': 2000}, '1': {'prod': '1020', 'qn': 25, 'amount': 875}, '2': {'prod': '1017', 'qn': 15, 'amount': 1500}, '3': {'prod': '1022', 'qn': 40, 'amount': 800}, '4': {'prod': '1008', 'qn': 5, 'amount': 500}, '5': {'prod': '1011', 'qn': 500, 'amount': 2500}, '6': {'prod': '1022', 'qn': 6, 'amount': 120}, '7': {'prod': '1010', 'qn': 7, 'amount': 595}, '8': {'prod': '1016', 'qn': 10, 'amount': 700}, '9': {'prod': '1015', 'qn': 20, 'amount': 7000}}\n"
     ]
    }
   ],
   "source": [
    "print(sales)\n"
   ]
  },
  {
   "cell_type": "markdown",
   "metadata": {
    "id": "pl_p5yDpyu_9"
   },
   "source": [
    "## Sales JSON"
   ]
  },
  {
   "cell_type": "code",
   "execution_count": null,
   "metadata": {
    "colab": {
     "base_uri": "https://localhost:8080/"
    },
    "id": "FwBezn_LxBV4",
    "outputId": "e1fb37d9-17c3-4cde-de23-4f9057e74203"
   },
   "outputs": [],
   "source": [
    "{'prod' : ui_prod, 'qn' : ui_quant, 'amount': records[ui_prod]['pr'] * ui_quant}"
   ]
  },
  {
   "cell_type": "code",
   "execution_count": null,
   "metadata": {
    "id": "6R0kXinOyWbK"
   },
   "outputs": [],
   "source": [
    "sales = {1 : {'prod' : ui_prod, 'qn' : ui_quant, 'amount': records[ui_prod]['pr'] * ui_quant},\n",
    "         2 : {'prod' : ui_prod, 'qn' : ui_quant, 'amount': records[ui_prod]['pr'] * ui_quant},\n",
    "         3 : {'prod' : ui_prod, 'qn' : ui_quant, 'amount': records[ui_prod]['pr'] * ui_quant}}"
   ]
  },
  {
   "cell_type": "code",
   "execution_count": 9,
   "metadata": {
    "colab": {
     "base_uri": "https://localhost:8080/",
     "height": 52
    },
    "id": "LRbOdbiUycNe",
    "outputId": "d2f68e95-b223-4d6b-f3f0-155466fc18a0"
   },
   "outputs": [],
   "source": [
    "sales = json.dumps(sales)"
   ]
  },
  {
   "cell_type": "code",
   "execution_count": 10,
   "metadata": {},
   "outputs": [
    {
     "data": {
      "text/plain": [
       "'{\"0\": {\"prod\": \"1007\", \"qn\": 20, \"amount\": 2000}, \"1\": {\"prod\": \"1020\", \"qn\": 25, \"amount\": 875}, \"2\": {\"prod\": \"1017\", \"qn\": 15, \"amount\": 1500}, \"3\": {\"prod\": \"1022\", \"qn\": 40, \"amount\": 800}, \"4\": {\"prod\": \"1008\", \"qn\": 5, \"amount\": 500}, \"5\": {\"prod\": \"1011\", \"qn\": 500, \"amount\": 2500}, \"6\": {\"prod\": \"1022\", \"qn\": 6, \"amount\": 120}, \"7\": {\"prod\": \"1010\", \"qn\": 7, \"amount\": 595}, \"8\": {\"prod\": \"1016\", \"qn\": 10, \"amount\": 700}, \"9\": {\"prod\": \"1015\", \"qn\": 20, \"amount\": 7000}}'"
      ]
     },
     "execution_count": 10,
     "metadata": {},
     "output_type": "execute_result"
    }
   ],
   "source": [
    "sales"
   ]
  },
  {
   "cell_type": "code",
   "execution_count": 11,
   "metadata": {},
   "outputs": [],
   "source": [
    "fd = open(\"sales.json\",'w')\n",
    "fd.write(sales)\n",
    "fd.close()"
   ]
  },
  {
   "cell_type": "code",
   "execution_count": null,
   "metadata": {},
   "outputs": [],
   "source": []
  }
 ],
 "metadata": {
  "colab": {
   "name": "Purchasing Products",
   "provenance": []
  },
  "kernelspec": {
   "display_name": "Python 3",
   "language": "python",
   "name": "python3"
  },
  "language_info": {
   "codemirror_mode": {
    "name": "ipython",
    "version": 3
   },
   "file_extension": ".py",
   "mimetype": "text/x-python",
   "name": "python",
   "nbconvert_exporter": "python",
   "pygments_lexer": "ipython3",
   "version": "3.8.5"
  }
 },
 "nbformat": 4,
 "nbformat_minor": 1
}
